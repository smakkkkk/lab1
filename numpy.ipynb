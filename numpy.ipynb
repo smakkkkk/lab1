{
  "cells": [
    {
      "cell_type": "markdown",
      "metadata": {
        "id": "vC84e9kzyxPy"
      },
      "source": [
        "<h1>Импорт библиотек"
      ]
    },
    {
      "cell_type": "code",
      "execution_count": 3,
      "metadata": {
        "id": "cgKeNegmQG5S"
      },
      "outputs": [],
      "source": [
        "import numpy as np\n",
        "import matplotlib.pyplot as plt"
      ]
    },
    {
      "cell_type": "markdown",
      "metadata": {
        "id": "qFM9uVU2x4Ls"
      },
      "source": [
        "<h1>Задача 1. Дан набор из $p$ матриц размерностью $(n, n)$ и $p$ векторов размерностью $(n, 1)$, найти сумму произведений матриц на векторы. Написать тесты для кода"
      ]
    },
    {
      "cell_type": "code",
      "execution_count": null,
      "metadata": {
        "id": "IAbUvEiYyWFF"
      },
      "outputs": [],
      "source": [
        "def sum_prod(X, V):  \n",
        "    result = np.zeros((X[0].shape[0], 1))\n",
        "    \n",
        "    for a, b in zip(X, V):\n",
        "        result += np.dot(a, b)\n",
        "    return result\n",
        "\n",
        "def test():\n",
        "    A1 = np.array([[1, 2], [3, 4]])\n",
        "    b1 = np.array([[1], [1]])\n",
        "    A2 = np.array([[5, 6], [7, 8]])\n",
        "    b2 = np.array([[1], [1]])\n",
        "    \n",
        "    matrices = [A1, A2]\n",
        "    vectors = [b1, b2]\n",
        "    \n",
        "    expected = np.array([[1 + 5 + 2 + 6], [3 + 7 + 4 + 8]])\n",
        "    result = sum_prod(matrices, vectors)\n",
        "    assert np.allclose(result, expected)\n",
        "\n",
        "\n",
        "test()"
      ]
    },
    {
      "cell_type": "markdown",
      "metadata": {
        "id": "TKwPG4fIy2w4"
      },
      "source": [
        "<h1>Задача 2. Дана матрица M, напишите функцию, которая бинаризует матрицу по некоторому threshold (то есть, все значения большие threshold становятся равными 1, иначе 0). Напишите тесты для кода"
      ]
    },
    {
      "cell_type": "code",
      "execution_count": null,
      "metadata": {
        "id": "KQDNMgsjRNH7"
      },
      "outputs": [],
      "source": [
        "def binarize(M, threshold=0.5):\n",
        "    return (M > threshold).astype(int)\n",
        "    \n",
        "\n",
        "def test1():\n",
        "    M = np.array([[0.1, 0.6], [0.3, 0.9]])\n",
        "    expected = np.array([[0, 1], [0, 1]])\n",
        "    np.testing.assert_array_equal(binarize(M, 0.5), expected)\n",
        "\n",
        "\n",
        "def test2():\n",
        "    M = np.array([[0.7, 0.3], [0.2, 1.1]])\n",
        "    expected = np.array([[1, 0], [0, 1]])\n",
        "    np.testing.assert_array_equal(binarize(M, 0.5), expected)\n",
        "\n",
        "test1()\n",
        "test2()"
      ]
    },
    {
      "cell_type": "markdown",
      "metadata": {
        "id": "IY5L-h-7zWhN"
      },
      "source": [
        "<h1>Задача 3. Напишите функцию, которая возвращает уникальные элементы из каждой строки матрицы. Напишите такую же функцию, но для столбцов. Напишите тесты для кода"
      ]
    },
    {
      "cell_type": "code",
      "execution_count": null,
      "metadata": {
        "id": "-8dEZhR0SBC-"
      },
      "outputs": [],
      "source": [
        "def unique_rows(mat):\n",
        "    return [np.unique(row) for row in mat]\n",
        "\n",
        "def unique_columns(mat):\n",
        "    return [np.unique(col) for col in mat.T]\n",
        "\n",
        "def test():\n",
        "    mat = np.array([[1, 2, 2, 3],\n",
        "                    [4, 4, 5, 6],\n",
        "                    [7, 8, 8, 9]])\n",
        "\n",
        "    expected_unique_rows = [np.array([1, 2, 3]), np.array([4, 5, 6]), np.array([7, 8, 9])]\n",
        "    expected_unique_columns = [np.array([1, 4, 7]), np.array([2, 8]), np.array([3, 5, 6]), np.array([9])]\n",
        "\n",
        "    assert [np.array_equal(result, expected) for result, expected in zip(unique_rows(mat), expected_unique_rows)]\n",
        "    assert [np.array_equal(result, expected) for result, expected in zip(unique_columns(mat), expected_unique_columns)]\n",
        "\n",
        "test()"
      ]
    },
    {
      "cell_type": "markdown",
      "metadata": {
        "id": "roYAlo4Jz-lH"
      },
      "source": [
        "<h1>Задача 4. Напишите функцию, которая заполняет матрицу с размерами $(m, n)$ случайными числами, распределенными по нормальному закону. Затем считает мат. ожидание и дисперсию для каждого из столбцов и строк, а также строит для каждой строки и столбца гистограмму значений (использовать функцию hist из модуля matplotlib.plot)"
      ]
    },
    {
      "cell_type": "code",
      "execution_count": null,
      "metadata": {
        "id": "nZK_71hMSQzv"
      },
      "outputs": [],
      "source": [
        "import numpy as np\n",
        "import matplotlib.pyplot as plt\n",
        "\n",
        "def func(m, n):\n",
        "    matrix = np.random.normal(loc=0, scale=2, size=(m, n))\n",
        "\n",
        "    column_means = np.mean(matrix, axis=0)\n",
        "    column_vars = np.var(matrix, axis=0)\n",
        "    row_means = np.mean(matrix, axis=1)\n",
        "    row_vars = np.var(matrix, axis=1)\n",
        "\n",
        "    print(\"Математические ожидания для столбцов:\", column_means)\n",
        "    print(\"Дисперсии для столбцов:\", column_vars)\n",
        "    print(\"Математические ожидания для строк:\", row_means)\n",
        "    print(\"Дисперсии для строк:\", row_vars)\n",
        "\n",
        "    for i in range(n):\n",
        "        plt.figure(figsize=(10, 5))\n",
        "        plt.hist(matrix[:, i], bins=50, alpha=1, color='blue', edgecolor='black')\n",
        "        plt.title(f'Гистограмма значений для столбца {i+1}')\n",
        "        plt.xlabel('Значение')\n",
        "        plt.ylabel('Частота')\n",
        "        plt.grid()\n",
        "        plt.show()\n",
        "\n",
        "    for i in range(m):\n",
        "        plt.figure(figsize=(10, 5))\n",
        "        plt.hist(matrix[i, :], bins=50, alpha=1, color='orange', edgecolor='black')\n",
        "        plt.title(f'Гистограмма значений для строки {i+1}')\n",
        "        plt.xlabel('Значение')\n",
        "        plt.ylabel('Частота')\n",
        "        plt.grid()\n",
        "        plt.show()\n",
        "\n",
        "func(5, 3)"
      ]
    },
    {
      "cell_type": "markdown",
      "metadata": {
        "id": "BDyATNdM0dJ2"
      },
      "source": [
        "<h1>Задача 5. Напишите функцию, которая заполняет матрицу $(m, n)$ в шахматном порядке заданными числами $a$ и $b$. Напишите тесты для кода"
      ]
    },
    {
      "cell_type": "code",
      "execution_count": null,
      "metadata": {
        "id": "RWNJYWQGecS6"
      },
      "outputs": [],
      "source": [
        "def chess(m, n, a, b):\n",
        "    matrix = [[0] * n for i in range(m)]\n",
        "    for i in range(m):\n",
        "        for j in range(n):\n",
        "            if (i + j) % 2 == 0:\n",
        "                matrix[i][j] = a  \n",
        "            else:\n",
        "                matrix[i][j] = b \n",
        "\n",
        "    return matrix\n",
        "\n",
        "def test():\n",
        "    result = chess(2, 2, 1, 0)\n",
        "    assert result == [[1, 0], [0, 1]]\n",
        "\n",
        "    result = chess(4, 5, 2, 3)\n",
        "    expected = [\n",
        "        [2, 3, 2, 3, 2],\n",
        "        [3, 2, 3, 2, 3],\n",
        "        [2, 3, 2, 3, 2],\n",
        "        [3, 2, 3, 2, 3]\n",
        "    ]\n",
        "    assert result == expected\n",
        "\n",
        "    result = chess(0, 0, 1, 0)\n",
        "    assert result == []\n",
        "\n",
        "test()"
      ]
    },
    {
      "cell_type": "markdown",
      "metadata": {
        "id": "-ymXLtTN0vB6"
      },
      "source": [
        "<h1>Задача 6. Напишите функцию, которая отрисовывает прямоугольник с заданными размерами (a, b) на изображении размера (m, n), цвет фона задайте в схеме RGB, как и цвет прямоугольника. Цвета также должны быть параметрами функции. Напишите аналогичную функцию но для овала с полуосями a и b. Напишите тесты для кода.\n",
        "Примечание: уравнение эллипса (границы овала) можно записать как:\n",
        "<h1>$\\frac{(x-x_0)^2}{a^2}+\\frac{(y-y_0)^2}{b^2}=1$"
      ]
    },
    {
      "cell_type": "code",
      "execution_count": 1,
      "metadata": {
        "id": "sNfl1t_kfOF4"
      },
      "outputs": [],
      "source": [
        "def draw_rectangle(a, b, m, n, rectangle_color, background_color):\n",
        "    image = np.ones((m, n, 3), dtype=np.float32) * np.array(background_color)\n",
        "    \n",
        "    start_row = (m - a) // 2\n",
        "    end_row = start_row + a\n",
        "    start_col = (n - b) // 2\n",
        "    end_col = start_col + b\n",
        "\n",
        "    image[start_row:end_row, start_col:end_col] = np.array(rectangle_color)\n",
        "\n",
        "    return image\n",
        "\n",
        "def test():\n",
        "    image = draw_rectangle(100, 200, 400, 600, (1, 0, 0), (1, 1, 1))\n",
        "    assert image.shape == (400, 600, 3), \"Размер изображения не соответствует ожиданиям.\"\n",
        "    assert np.all(image[150:250, 200:400] == (1, 0, 0)), \"Прямоугольник рисуется неправильно.\"\n",
        "\n",
        "#с эллипсом не смог"
      ]
    },
    {
      "cell_type": "markdown",
      "metadata": {
        "id": "S82c38oz244H"
      },
      "source": [
        "<h1>Задача 7. Дан некий временной ряд. Для данного ряда нужно найти его: математическое ожидание, дисперсию, СКО, найти все локальные максимумы и минимумы (локальный максимум - это точка, которая больше своих соседних точек, а локальный минимум - это точка, которая меньше своих соседей), а также вычислить для данного ряда другой ряд, получаемый методом скользящего среднего с размером окна $p$.\n",
        "<h1>Примечание: метод скользящего среднего подразумевает нахождение среднего из подмножетсва ряда размером $p$"
      ]
    },
    {
      "cell_type": "code",
      "execution_count": null,
      "metadata": {
        "id": "Zb9mIVge5MMt"
      },
      "outputs": [],
      "source": [
        "#не получилось"
      ]
    },
    {
      "cell_type": "markdown",
      "metadata": {
        "id": "jPkylmOX5O9n"
      },
      "source": [
        "<h1> Задача 8. Дан некоторый вектор с целочисленными метками классов, напишите функцию, которая выполняет one-hot-encoding для данного вектора\n",
        "<h1> One-hot-encoding - представление, в котором на месте метки некоторого класса стоит 1, в остальных позициях стоит 0. Например для вектора [0, 2, 3, 0] one-hot-encoding выглядит как: [[1, 0, 0, 0], [0, 0, 1, 0], [0, 0, 0, 1], [1, 0, 0, 0]]"
      ]
    },
    {
      "cell_type": "code",
      "execution_count": null,
      "metadata": {
        "id": "Y-jlnZvw56lD"
      },
      "outputs": [],
      "source": [
        "def func(labels):\n",
        "    num_classes = np.max(labels) + 1\n",
        "    one_hot = np.zeros((len(labels), num_classes), dtype=int)\n",
        "    one_hot[np.arange(len(labels)), labels] = 1\n",
        "    return one_hot\n",
        "\n",
        "def test():\n",
        "    m = np.array([0, 2, 3, 0])\n",
        "    expected = np.array([\n",
        "        [1, 0, 0, 0],\n",
        "        [0, 0, 1, 0],\n",
        "        [0, 0, 0, 1],\n",
        "        [1, 0, 0, 0]\n",
        "    ])\n",
        "\n",
        "test()"
      ]
    }
  ],
  "metadata": {
    "colab": {
      "provenance": []
    },
    "kernelspec": {
      "display_name": "Python 3",
      "name": "python3"
    },
    "language_info": {
      "name": "python"
    }
  },
  "nbformat": 4,
  "nbformat_minor": 0
}
