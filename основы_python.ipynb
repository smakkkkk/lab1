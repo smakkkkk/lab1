{
  "cells": [
    {
      "cell_type": "markdown",
      "metadata": {
        "id": "M-DGa20PaHnu"
      },
      "source": [
        "#Задача 1\n",
        "Написать функцию на вход которой подается строка, состоящая из латинских букв.\n",
        "Функция должна вернуть количество гласных букв (a, e, i, o, u) в этой строке. Написать тесты для кода"
      ]
    },
    {
      "cell_type": "code",
      "execution_count": null,
      "metadata": {
        "id": "XvX8X_JJ6PCb"
      },
      "outputs": [
        {
          "ename": "",
          "evalue": "",
          "output_type": "error",
          "traceback": [
            "\u001b[1;31mRunning cells with 'Python 3.13.0' requires the ipykernel package.\n",
            "\u001b[1;31mRun the following command to install 'ipykernel' into the Python environment. \n",
            "\u001b[1;31mCommand: 'c:/Users/smak/AppData/Local/Programs/Python/Python313/python.exe -m pip install ipykernel -U --user --force-reinstall'"
          ]
        }
      ],
      "source": [
        "def func(str):\n",
        "    vowels = \"aeiouAEIOU\"\n",
        "    return sum(1 for char in str if char in vowels)\n",
        "\n",
        "def tests():\n",
        "    assert func(\"hello\") == 2, \"Test case 1 failed\"\n",
        "    assert func(\"world\") == 1, \"Test case 2 failed\"\n",
        "    assert func(\"python\") == 1, \"Test case 3 failed\"\n",
        "    assert func(\"aeiou\") == 5, \"Test case 4 failed\"\n",
        "    assert func(\"AEIOU\") == 5, \"Test case 5 failed\"\n",
        "    assert func(\"bcdfghjklmnpqrstvwxyz\") == 0, \"Test case 6 failed\"\n",
        "    assert func(\"\") == 0, \"Test case 7 failed\"\n",
        "    assert func(\"iiii\") == 4, \"Test case 8 failed\"\n",
        "    \n",
        "    print(\"all tests passed\")\n",
        "\n",
        "tests()"
      ]
    },
    {
      "cell_type": "markdown",
      "metadata": {
        "id": "t2ClV_Y0bbr6"
      },
      "source": [
        "# Задача 2\n",
        "Написать функцию на вход, которой подается строка. Функция должна вернуть true, если\n",
        "каждый символ в строке встречается только 1 раз, иначе должна вернуть false. Написать тесты для кода"
      ]
    },
    {
      "cell_type": "code",
      "execution_count": null,
      "metadata": {
        "id": "FppbECao6VIz"
      },
      "outputs": [],
      "source": [
        "def func(str):\n",
        "    symbols = set()\n",
        "    for char in str.lower():\n",
        "        if char in symbols:\n",
        "            return False\n",
        "        symbols.add(char)\n",
        "    return True\n",
        "\n",
        "def tests():\n",
        "    assert func(\"abc\") == True, \"Test case 1 failed\"\n",
        "    assert func(\"hello\") == False, \"Test case 2 failed\"\n",
        "    assert func(\"123456\") == True, \"Test case 3 failed\"\n",
        "    assert func(\"112233\") == False, \"Test case 4 failed\"\n",
        "    assert func(\"\") == True, \"Test case 5 failed\"\n",
        "    assert func(\"!@#\") == True, \"Test case 6 failed\"\n",
        "    assert func(\"aA\") == False, \"Test case 7 failed\"\n",
        "\n",
        "    print(\"all tests passed\")\n",
        "\n",
        "tests()"
      ]
    },
    {
      "cell_type": "markdown",
      "metadata": {
        "id": "udRiIK1cdt6E"
      },
      "source": [
        "# Задача 3\n",
        "Написать функцию, которая принимает положительное число и возвращает количество\n",
        "бит равных 1 в этом числе. Написать тесты для кода"
      ]
    },
    {
      "cell_type": "code",
      "execution_count": null,
      "metadata": {
        "id": "6tkfDJRz6dp_"
      },
      "outputs": [],
      "source": [
        "def func(num):\n",
        "    return bin(num).count('1')\n",
        "\n",
        "def tests():\n",
        "    assert func(0) == 0, \"Test case 1 failed\"\n",
        "    assert func(1) == 1, \"Test case 2 failed\"\n",
        "    assert func(2) == 1, \"Test case 3 failed\"\n",
        "    assert func(3) == 2, \"Test case 4 failed\"\n",
        "    assert func(4) == 1, \"Test case 5 failed\"\n",
        "    assert func(5) == 2, \"Test case 6 failed\"\n",
        "    assert func(255) == 8, \"Test case 7 failed\"\n",
        "    assert func(256) == 1, \"Test case 8 failed\"\n",
        "    \n",
        "    print(\"all tests passed\")\n",
        "\n",
        "tests()"
      ]
    },
    {
      "cell_type": "markdown",
      "metadata": {
        "id": "26dDUz-Ae17N"
      },
      "source": [
        "# Задача 4\n",
        "Написать функцию, которая принимает положительное число. Функция должна вернуть то,\n",
        "сколько раз необходимо перемножать цифры числа или результат перемножения, чтобы\n",
        "получилось число состоящее из одной цифры.\n",
        "Например, для входного числа:\n",
        "· 39 функция должна вернуть 3, так как 3*9=27 => 2*7=14 => 1*4=4\n",
        "· 4 функция должна вернуть 0, так как число уже состоит из одной цифры\n",
        "· 999 функция должна вернуть 4, так как 9*9*9=729 => 7*2*9=126 => 1*2*6=12 =>\n",
        "1*2=2. Написать тесты для кода"
      ]
    },
    {
      "cell_type": "code",
      "execution_count": null,
      "metadata": {
        "id": "BH1A_Mgi6i4G"
      },
      "outputs": [],
      "source": [
        "def magic(n):\n",
        "    if n < 10:\n",
        "        return 0\n",
        "    count = 0\n",
        "    while n >= 10:\n",
        "        product = 1\n",
        "        while n > 0:\n",
        "            product *= n % 10\n",
        "            n //= 10\n",
        "        n = product\n",
        "        count += 1\n",
        "    \n",
        "    return count\n",
        "\n",
        "def tests():\n",
        "    assert magic(39) == 3, \"Test case 1 failed\"\n",
        "    assert magic(5) == 0, \"Test case 2 failed\"\n",
        "    assert magic(999) == 4, \"Test case 3 failed\"\n",
        "    assert magic(10) == 1, \"Test case 4 failed\"\n",
        "    assert magic(25) == 2, \"Test case 5 failed\"\n",
        "    assert magic(77) == 4, \"Test case 6 failed\"\n",
        "    assert magic(1) == 0, \"Test case 7 failed\"\n",
        "    assert magic(678) == 4, \"Test case 8 failed\"\n",
        "\n",
        "    print(\"all tests passed\")\n",
        "\n",
        "tests()"
      ]
    },
    {
      "cell_type": "markdown",
      "metadata": {
        "id": "0nS-kIa8g8vd"
      },
      "source": [
        "# Задача 5\n",
        "Написать функцию, которая принимает два целочисленных вектора одинаковой длины и\n",
        "возвращает среднеквадратическое отклонение двух векторов. Написать тесты для кода"
      ]
    },
    {
      "cell_type": "code",
      "execution_count": null,
      "metadata": {
        "id": "8iphx4LM6xbx"
      },
      "outputs": [],
      "source": [
        "def mse(pred, true):\n",
        "    n = len(pred)\n",
        "    vectors = [(pred[i] - true[i]) ** 2 for i in range(n)]\n",
        "    arithmetic_mean = sum(vectors) / n\n",
        "    return arithmetic_mean ** 0.5\n",
        "\n",
        "def tests():\n",
        "    assert mse([1, 2], [1, 2]) == 0, \"Test case 1 failed\"\n",
        "    assert mse([2, 3], [3, 4]) == 1, \"Test case 2 failed\"\n",
        "    assert mse([1, 2], [12, 13]) == 11, \"Test case 3 failed\"   \n",
        "    print(\"all tests passed\")\n",
        "\n",
        "tests()"
      ]
    },
    {
      "cell_type": "markdown",
      "metadata": {
        "id": "vpIPKL439zkw"
      },
      "source": [
        "# Задача 6\n",
        "Написать функцию, принимающая целое положительное число. Функция должна вернуть\n",
        "строку вида “(n1**p1)(n2**p2)…(nk**pk)” представляющая разложение числа на простые\n",
        "множители (если pi == 1, то выводить только ni).\n",
        "Например, для числа 86240 функция должна вернуть “(2**5)(5)(7**2)(11)”. Написать тесты для кода"
      ]
    },
    {
      "cell_type": "code",
      "execution_count": null,
      "metadata": {
        "id": "pFebmcZk94Jw"
      },
      "outputs": [],
      "source": [
        "def func(n):\n",
        "    divisors = {}\n",
        "    divisor = 2\n",
        "    \n",
        "    while n > 1:\n",
        "        while n % divisor == 0:\n",
        "            if divisor in divisors:\n",
        "                divisors[divisor] += 1\n",
        "            else:\n",
        "                divisors[divisor] = 1\n",
        "            n //= divisor\n",
        "        divisor += 1\n",
        "\n",
        "    result = ''.join(f\"({base}\" + (f\"**{exp})\" if exp > 1 else \")\") for base, exp in divisors.items())\n",
        "\n",
        "    return result\n",
        "\n",
        "def tests():\n",
        "    assert func(86240) == '(2**5)(5)(7**2)(11)', \"Test case 1 failed\"\n",
        "    assert func (120) == '(2**3)(3)(5)', \"Test case 2 failed\"\n",
        "    assert func (11) == '(11)', \"Test case 3 failed\"\n",
        "\n",
        "tests()"
      ]
    },
    {
      "cell_type": "markdown",
      "metadata": {
        "id": "ps2s0BudX7A2"
      },
      "source": [
        "# Задача 7\n",
        "Написать функцию, принимающая целое число n, задающее количество кубиков. Функция\n",
        "должна определить, можно ли из данного кол-ва кубиков построить пирамиду, то есть\n",
        "можно ли представить число n как 1^2+2^2+3^2+…+k^2. Если можно, то функция должна\n",
        "вернуть k, иначе строку “It is impossible”. Написать тесты для кода"
      ]
    },
    {
      "cell_type": "code",
      "execution_count": null,
      "metadata": {
        "id": "3YPjEXxhX_YT"
      },
      "outputs": [],
      "source": [
        "def pyramid(number):\n",
        "    c = 1\n",
        "    total = 0\n",
        "    while total < number:\n",
        "        total += c ** 2\n",
        "        if total == number:\n",
        "            return c\n",
        "        c += 1\n",
        "    \n",
        "    return \"It is impossible\"\n",
        "\n",
        "def tests():\n",
        "    assert pyramid(52) == \"It is impossible\", \"Test case 1 failed\"\n",
        "    assert pyramid(14) == 3, \"Test case 2 failed\"\n",
        "    assert pyramid(120) == \"It is impossible\", \"Test case 3 failed\"\n",
        "\n",
        "tests()"
      ]
    },
    {
      "cell_type": "markdown",
      "metadata": {
        "id": "KeKgmIdAQMEJ"
      },
      "source": [
        "# Задача 8\n",
        "Функция принимает на вход положительное число и определяет является ли оно сбалансированным, т.е. сумма цифр до средних равна сумме цифр после. Средними в случае нечетного числа цифр считать одну цифру, в случае четного - две средних. Написать тесты для кода"
      ]
    },
    {
      "cell_type": "code",
      "execution_count": null,
      "metadata": {
        "id": "gMAAqtqlQrZt"
      },
      "outputs": [],
      "source": [
        "def func(n):\n",
        "    digits = str(n)\n",
        "    length = len(digits)\n",
        "    if length == 1 or length == 2:\n",
        "        return True\n",
        "    if length % 2 == 0:\n",
        "        mid1 = length // 2 - 1\n",
        "        mid2 = mid1 + 1\n",
        "        left_sum = sum(int(digits[i]) for i in range(mid1))\n",
        "        right_sum = sum(int(digits[i]) for i in range(mid2 + 1, length))\n",
        "    else:\n",
        "        mid = length // 2\n",
        "        left_sum = sum(int(digits[i]) for i in range(mid))\n",
        "        right_sum = sum(int(digits[i]) for i in range(mid + 1, length))\n",
        "\n",
        "    return left_sum == right_sum\n",
        "\n",
        "def tests():\n",
        "    assert func(2016) == False, \"Test case 1 failed\"\n",
        "    assert func(321123) == True, \"Test case 2 failed\"\n",
        "    assert func(1111) == True, \"Test case 3 failed\"\n",
        "    assert func(120598) == False, \"Test case 4 failed\"\n",
        "    assert func(1) == True, \"Test case 5 failed\"\n",
        "    assert func(11) == True, \"Test case 6 failed\"\n",
        "\n",
        "\n",
        "tests()"
      ]
    }
  ],
  "metadata": {
    "colab": {
      "provenance": []
    },
    "kernelspec": {
      "display_name": "Python 3",
      "name": "python3"
    },
    "language_info": {
      "name": "python",
      "version": "3.13.0"
    }
  },
  "nbformat": 4,
  "nbformat_minor": 0
}
